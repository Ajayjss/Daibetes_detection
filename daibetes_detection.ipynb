{
  "nbformat": 4,
  "nbformat_minor": 0,
  "metadata": {
    "colab": {
      "name": "daibetes_detection.ipynb",
      "provenance": []
    },
    "kernelspec": {
      "name": "python3",
      "display_name": "Python 3"
    },
    "language_info": {
      "name": "python"
    }
  },
  "cells": [
    {
      "cell_type": "code",
      "execution_count": null,
      "metadata": {
        "id": "wbVp-x1x8hys"
      },
      "outputs": [],
      "source": [
        "import pandas as pd\n",
        "import numpy as np\n",
        "import matplotlib.pyplot as plt\n",
        "import seaborn as sns\n",
        "\n"
      ]
    },
    {
      "cell_type": "code",
      "source": [
        "df = pd.read_csv(r'https://github.com/Yantra-Byte/Dataset/raw/main/Diabetes.csv')"
      ],
      "metadata": {
        "id": "5xkqzStcUL5v"
      },
      "execution_count": null,
      "outputs": []
    },
    {
      "cell_type": "code",
      "source": [
        "df.info()"
      ],
      "metadata": {
        "colab": {
          "base_uri": "https://localhost:8080/"
        },
        "id": "pqBuIBTrUfaJ",
        "outputId": "75998b30-b2b6-4138-dadf-ba15966142bc"
      },
      "execution_count": null,
      "outputs": [
        {
          "output_type": "stream",
          "name": "stdout",
          "text": [
            "<class 'pandas.core.frame.DataFrame'>\n",
            "RangeIndex: 768 entries, 0 to 767\n",
            "Data columns (total 9 columns):\n",
            " #   Column       Non-Null Count  Dtype  \n",
            "---  ------       --------------  -----  \n",
            " 0   pregnancies  768 non-null    int64  \n",
            " 1   glucose      768 non-null    int64  \n",
            " 2   diastolic    768 non-null    int64  \n",
            " 3   triceps      768 non-null    int64  \n",
            " 4   insulin      768 non-null    int64  \n",
            " 5   bmi          768 non-null    float64\n",
            " 6   dpf          768 non-null    float64\n",
            " 7   age          768 non-null    int64  \n",
            " 8   diabetes     768 non-null    int64  \n",
            "dtypes: float64(2), int64(7)\n",
            "memory usage: 54.1 KB\n"
          ]
        }
      ]
    },
    {
      "cell_type": "code",
      "source": [
        "df.columns"
      ],
      "metadata": {
        "colab": {
          "base_uri": "https://localhost:8080/"
        },
        "id": "oRVmEWGQUk1A",
        "outputId": "8049691b-9542-43be-bd7b-5b1f515dccb3"
      },
      "execution_count": null,
      "outputs": [
        {
          "output_type": "execute_result",
          "data": {
            "text/plain": [
              "Index(['pregnancies', 'glucose', 'diastolic', 'triceps', 'insulin', 'bmi',\n",
              "       'dpf', 'age', 'diabetes'],\n",
              "      dtype='object')"
            ]
          },
          "metadata": {},
          "execution_count": 5
        }
      ]
    },
    {
      "cell_type": "code",
      "source": [
        "X=df[['pregnancies', 'glucose', 'diastolic', 'triceps', 'insulin', 'bmi',\n",
        "       'dpf', 'age']]\n",
        "y=df[['diabetes']]"
      ],
      "metadata": {
        "id": "-ApnlACcUvO5"
      },
      "execution_count": null,
      "outputs": []
    },
    {
      "cell_type": "code",
      "source": [
        "from sklearn.model_selection import train_test_split\n",
        "X_train, X_test, y_train, y_test = train_test_split(X, y, test_size = 0.3, random_state=252)\n",
        "y_train"
      ],
      "metadata": {
        "colab": {
          "base_uri": "https://localhost:8080/",
          "height": 424
        },
        "id": "D6tSeE3uVB_k",
        "outputId": "2346c339-b2c3-46ab-c9d4-e397db279cff"
      },
      "execution_count": null,
      "outputs": [
        {
          "output_type": "execute_result",
          "data": {
            "text/html": [
              "\n",
              "  <div id=\"df-18b0c850-fc41-440a-a816-7709ec915796\">\n",
              "    <div class=\"colab-df-container\">\n",
              "      <div>\n",
              "<style scoped>\n",
              "    .dataframe tbody tr th:only-of-type {\n",
              "        vertical-align: middle;\n",
              "    }\n",
              "\n",
              "    .dataframe tbody tr th {\n",
              "        vertical-align: top;\n",
              "    }\n",
              "\n",
              "    .dataframe thead th {\n",
              "        text-align: right;\n",
              "    }\n",
              "</style>\n",
              "<table border=\"1\" class=\"dataframe\">\n",
              "  <thead>\n",
              "    <tr style=\"text-align: right;\">\n",
              "      <th></th>\n",
              "      <th>diabetes</th>\n",
              "    </tr>\n",
              "  </thead>\n",
              "  <tbody>\n",
              "    <tr>\n",
              "      <th>624</th>\n",
              "      <td>0</td>\n",
              "    </tr>\n",
              "    <tr>\n",
              "      <th>22</th>\n",
              "      <td>1</td>\n",
              "    </tr>\n",
              "    <tr>\n",
              "      <th>290</th>\n",
              "      <td>0</td>\n",
              "    </tr>\n",
              "    <tr>\n",
              "      <th>103</th>\n",
              "      <td>0</td>\n",
              "    </tr>\n",
              "    <tr>\n",
              "      <th>743</th>\n",
              "      <td>1</td>\n",
              "    </tr>\n",
              "    <tr>\n",
              "      <th>...</th>\n",
              "      <td>...</td>\n",
              "    </tr>\n",
              "    <tr>\n",
              "      <th>461</th>\n",
              "      <td>0</td>\n",
              "    </tr>\n",
              "    <tr>\n",
              "      <th>671</th>\n",
              "      <td>0</td>\n",
              "    </tr>\n",
              "    <tr>\n",
              "      <th>397</th>\n",
              "      <td>1</td>\n",
              "    </tr>\n",
              "    <tr>\n",
              "      <th>358</th>\n",
              "      <td>0</td>\n",
              "    </tr>\n",
              "    <tr>\n",
              "      <th>155</th>\n",
              "      <td>1</td>\n",
              "    </tr>\n",
              "  </tbody>\n",
              "</table>\n",
              "<p>537 rows × 1 columns</p>\n",
              "</div>\n",
              "      <button class=\"colab-df-convert\" onclick=\"convertToInteractive('df-18b0c850-fc41-440a-a816-7709ec915796')\"\n",
              "              title=\"Convert this dataframe to an interactive table.\"\n",
              "              style=\"display:none;\">\n",
              "        \n",
              "  <svg xmlns=\"http://www.w3.org/2000/svg\" height=\"24px\"viewBox=\"0 0 24 24\"\n",
              "       width=\"24px\">\n",
              "    <path d=\"M0 0h24v24H0V0z\" fill=\"none\"/>\n",
              "    <path d=\"M18.56 5.44l.94 2.06.94-2.06 2.06-.94-2.06-.94-.94-2.06-.94 2.06-2.06.94zm-11 1L8.5 8.5l.94-2.06 2.06-.94-2.06-.94L8.5 2.5l-.94 2.06-2.06.94zm10 10l.94 2.06.94-2.06 2.06-.94-2.06-.94-.94-2.06-.94 2.06-2.06.94z\"/><path d=\"M17.41 7.96l-1.37-1.37c-.4-.4-.92-.59-1.43-.59-.52 0-1.04.2-1.43.59L10.3 9.45l-7.72 7.72c-.78.78-.78 2.05 0 2.83L4 21.41c.39.39.9.59 1.41.59.51 0 1.02-.2 1.41-.59l7.78-7.78 2.81-2.81c.8-.78.8-2.07 0-2.86zM5.41 20L4 18.59l7.72-7.72 1.47 1.35L5.41 20z\"/>\n",
              "  </svg>\n",
              "      </button>\n",
              "      \n",
              "  <style>\n",
              "    .colab-df-container {\n",
              "      display:flex;\n",
              "      flex-wrap:wrap;\n",
              "      gap: 12px;\n",
              "    }\n",
              "\n",
              "    .colab-df-convert {\n",
              "      background-color: #E8F0FE;\n",
              "      border: none;\n",
              "      border-radius: 50%;\n",
              "      cursor: pointer;\n",
              "      display: none;\n",
              "      fill: #1967D2;\n",
              "      height: 32px;\n",
              "      padding: 0 0 0 0;\n",
              "      width: 32px;\n",
              "    }\n",
              "\n",
              "    .colab-df-convert:hover {\n",
              "      background-color: #E2EBFA;\n",
              "      box-shadow: 0px 1px 2px rgba(60, 64, 67, 0.3), 0px 1px 3px 1px rgba(60, 64, 67, 0.15);\n",
              "      fill: #174EA6;\n",
              "    }\n",
              "\n",
              "    [theme=dark] .colab-df-convert {\n",
              "      background-color: #3B4455;\n",
              "      fill: #D2E3FC;\n",
              "    }\n",
              "\n",
              "    [theme=dark] .colab-df-convert:hover {\n",
              "      background-color: #434B5C;\n",
              "      box-shadow: 0px 1px 3px 1px rgba(0, 0, 0, 0.15);\n",
              "      filter: drop-shadow(0px 1px 2px rgba(0, 0, 0, 0.3));\n",
              "      fill: #FFFFFF;\n",
              "    }\n",
              "  </style>\n",
              "\n",
              "      <script>\n",
              "        const buttonEl =\n",
              "          document.querySelector('#df-18b0c850-fc41-440a-a816-7709ec915796 button.colab-df-convert');\n",
              "        buttonEl.style.display =\n",
              "          google.colab.kernel.accessAllowed ? 'block' : 'none';\n",
              "\n",
              "        async function convertToInteractive(key) {\n",
              "          const element = document.querySelector('#df-18b0c850-fc41-440a-a816-7709ec915796');\n",
              "          const dataTable =\n",
              "            await google.colab.kernel.invokeFunction('convertToInteractive',\n",
              "                                                     [key], {});\n",
              "          if (!dataTable) return;\n",
              "\n",
              "          const docLinkHtml = 'Like what you see? Visit the ' +\n",
              "            '<a target=\"_blank\" href=https://colab.research.google.com/notebooks/data_table.ipynb>data table notebook</a>'\n",
              "            + ' to learn more about interactive tables.';\n",
              "          element.innerHTML = '';\n",
              "          dataTable['output_type'] = 'display_data';\n",
              "          await google.colab.output.renderOutput(dataTable, element);\n",
              "          const docLink = document.createElement('div');\n",
              "          docLink.innerHTML = docLinkHtml;\n",
              "          element.appendChild(docLink);\n",
              "        }\n",
              "      </script>\n",
              "    </div>\n",
              "  </div>\n",
              "  "
            ],
            "text/plain": [
              "     diabetes\n",
              "624         0\n",
              "22          1\n",
              "290         0\n",
              "103         0\n",
              "743         1\n",
              "..        ...\n",
              "461         0\n",
              "671         0\n",
              "397         1\n",
              "358         0\n",
              "155         1\n",
              "\n",
              "[537 rows x 1 columns]"
            ]
          },
          "metadata": {},
          "execution_count": 8
        }
      ]
    },
    {
      "cell_type": "code",
      "source": [
        "df.describe()"
      ],
      "metadata": {
        "colab": {
          "base_uri": "https://localhost:8080/",
          "height": 300
        },
        "id": "NWS6Wi4HVwiG",
        "outputId": "149de704-06ef-467d-ed77-d024c20525b4"
      },
      "execution_count": null,
      "outputs": [
        {
          "output_type": "execute_result",
          "data": {
            "text/html": [
              "\n",
              "  <div id=\"df-28960c1b-53f2-4593-99ad-d8de71491e77\">\n",
              "    <div class=\"colab-df-container\">\n",
              "      <div>\n",
              "<style scoped>\n",
              "    .dataframe tbody tr th:only-of-type {\n",
              "        vertical-align: middle;\n",
              "    }\n",
              "\n",
              "    .dataframe tbody tr th {\n",
              "        vertical-align: top;\n",
              "    }\n",
              "\n",
              "    .dataframe thead th {\n",
              "        text-align: right;\n",
              "    }\n",
              "</style>\n",
              "<table border=\"1\" class=\"dataframe\">\n",
              "  <thead>\n",
              "    <tr style=\"text-align: right;\">\n",
              "      <th></th>\n",
              "      <th>pregnancies</th>\n",
              "      <th>glucose</th>\n",
              "      <th>diastolic</th>\n",
              "      <th>triceps</th>\n",
              "      <th>insulin</th>\n",
              "      <th>bmi</th>\n",
              "      <th>dpf</th>\n",
              "      <th>age</th>\n",
              "      <th>diabetes</th>\n",
              "    </tr>\n",
              "  </thead>\n",
              "  <tbody>\n",
              "    <tr>\n",
              "      <th>count</th>\n",
              "      <td>768.000000</td>\n",
              "      <td>768.000000</td>\n",
              "      <td>768.000000</td>\n",
              "      <td>768.000000</td>\n",
              "      <td>768.000000</td>\n",
              "      <td>768.000000</td>\n",
              "      <td>768.000000</td>\n",
              "      <td>768.000000</td>\n",
              "      <td>768.000000</td>\n",
              "    </tr>\n",
              "    <tr>\n",
              "      <th>mean</th>\n",
              "      <td>3.845052</td>\n",
              "      <td>120.894531</td>\n",
              "      <td>69.105469</td>\n",
              "      <td>20.536458</td>\n",
              "      <td>79.799479</td>\n",
              "      <td>31.992578</td>\n",
              "      <td>0.471876</td>\n",
              "      <td>33.240885</td>\n",
              "      <td>0.348958</td>\n",
              "    </tr>\n",
              "    <tr>\n",
              "      <th>std</th>\n",
              "      <td>3.369578</td>\n",
              "      <td>31.972618</td>\n",
              "      <td>19.355807</td>\n",
              "      <td>15.952218</td>\n",
              "      <td>115.244002</td>\n",
              "      <td>7.884160</td>\n",
              "      <td>0.331329</td>\n",
              "      <td>11.760232</td>\n",
              "      <td>0.476951</td>\n",
              "    </tr>\n",
              "    <tr>\n",
              "      <th>min</th>\n",
              "      <td>0.000000</td>\n",
              "      <td>0.000000</td>\n",
              "      <td>0.000000</td>\n",
              "      <td>0.000000</td>\n",
              "      <td>0.000000</td>\n",
              "      <td>0.000000</td>\n",
              "      <td>0.078000</td>\n",
              "      <td>21.000000</td>\n",
              "      <td>0.000000</td>\n",
              "    </tr>\n",
              "    <tr>\n",
              "      <th>25%</th>\n",
              "      <td>1.000000</td>\n",
              "      <td>99.000000</td>\n",
              "      <td>62.000000</td>\n",
              "      <td>0.000000</td>\n",
              "      <td>0.000000</td>\n",
              "      <td>27.300000</td>\n",
              "      <td>0.243750</td>\n",
              "      <td>24.000000</td>\n",
              "      <td>0.000000</td>\n",
              "    </tr>\n",
              "    <tr>\n",
              "      <th>50%</th>\n",
              "      <td>3.000000</td>\n",
              "      <td>117.000000</td>\n",
              "      <td>72.000000</td>\n",
              "      <td>23.000000</td>\n",
              "      <td>30.500000</td>\n",
              "      <td>32.000000</td>\n",
              "      <td>0.372500</td>\n",
              "      <td>29.000000</td>\n",
              "      <td>0.000000</td>\n",
              "    </tr>\n",
              "    <tr>\n",
              "      <th>75%</th>\n",
              "      <td>6.000000</td>\n",
              "      <td>140.250000</td>\n",
              "      <td>80.000000</td>\n",
              "      <td>32.000000</td>\n",
              "      <td>127.250000</td>\n",
              "      <td>36.600000</td>\n",
              "      <td>0.626250</td>\n",
              "      <td>41.000000</td>\n",
              "      <td>1.000000</td>\n",
              "    </tr>\n",
              "    <tr>\n",
              "      <th>max</th>\n",
              "      <td>17.000000</td>\n",
              "      <td>199.000000</td>\n",
              "      <td>122.000000</td>\n",
              "      <td>99.000000</td>\n",
              "      <td>846.000000</td>\n",
              "      <td>67.100000</td>\n",
              "      <td>2.420000</td>\n",
              "      <td>81.000000</td>\n",
              "      <td>1.000000</td>\n",
              "    </tr>\n",
              "  </tbody>\n",
              "</table>\n",
              "</div>\n",
              "      <button class=\"colab-df-convert\" onclick=\"convertToInteractive('df-28960c1b-53f2-4593-99ad-d8de71491e77')\"\n",
              "              title=\"Convert this dataframe to an interactive table.\"\n",
              "              style=\"display:none;\">\n",
              "        \n",
              "  <svg xmlns=\"http://www.w3.org/2000/svg\" height=\"24px\"viewBox=\"0 0 24 24\"\n",
              "       width=\"24px\">\n",
              "    <path d=\"M0 0h24v24H0V0z\" fill=\"none\"/>\n",
              "    <path d=\"M18.56 5.44l.94 2.06.94-2.06 2.06-.94-2.06-.94-.94-2.06-.94 2.06-2.06.94zm-11 1L8.5 8.5l.94-2.06 2.06-.94-2.06-.94L8.5 2.5l-.94 2.06-2.06.94zm10 10l.94 2.06.94-2.06 2.06-.94-2.06-.94-.94-2.06-.94 2.06-2.06.94z\"/><path d=\"M17.41 7.96l-1.37-1.37c-.4-.4-.92-.59-1.43-.59-.52 0-1.04.2-1.43.59L10.3 9.45l-7.72 7.72c-.78.78-.78 2.05 0 2.83L4 21.41c.39.39.9.59 1.41.59.51 0 1.02-.2 1.41-.59l7.78-7.78 2.81-2.81c.8-.78.8-2.07 0-2.86zM5.41 20L4 18.59l7.72-7.72 1.47 1.35L5.41 20z\"/>\n",
              "  </svg>\n",
              "      </button>\n",
              "      \n",
              "  <style>\n",
              "    .colab-df-container {\n",
              "      display:flex;\n",
              "      flex-wrap:wrap;\n",
              "      gap: 12px;\n",
              "    }\n",
              "\n",
              "    .colab-df-convert {\n",
              "      background-color: #E8F0FE;\n",
              "      border: none;\n",
              "      border-radius: 50%;\n",
              "      cursor: pointer;\n",
              "      display: none;\n",
              "      fill: #1967D2;\n",
              "      height: 32px;\n",
              "      padding: 0 0 0 0;\n",
              "      width: 32px;\n",
              "    }\n",
              "\n",
              "    .colab-df-convert:hover {\n",
              "      background-color: #E2EBFA;\n",
              "      box-shadow: 0px 1px 2px rgba(60, 64, 67, 0.3), 0px 1px 3px 1px rgba(60, 64, 67, 0.15);\n",
              "      fill: #174EA6;\n",
              "    }\n",
              "\n",
              "    [theme=dark] .colab-df-convert {\n",
              "      background-color: #3B4455;\n",
              "      fill: #D2E3FC;\n",
              "    }\n",
              "\n",
              "    [theme=dark] .colab-df-convert:hover {\n",
              "      background-color: #434B5C;\n",
              "      box-shadow: 0px 1px 3px 1px rgba(0, 0, 0, 0.15);\n",
              "      filter: drop-shadow(0px 1px 2px rgba(0, 0, 0, 0.3));\n",
              "      fill: #FFFFFF;\n",
              "    }\n",
              "  </style>\n",
              "\n",
              "      <script>\n",
              "        const buttonEl =\n",
              "          document.querySelector('#df-28960c1b-53f2-4593-99ad-d8de71491e77 button.colab-df-convert');\n",
              "        buttonEl.style.display =\n",
              "          google.colab.kernel.accessAllowed ? 'block' : 'none';\n",
              "\n",
              "        async function convertToInteractive(key) {\n",
              "          const element = document.querySelector('#df-28960c1b-53f2-4593-99ad-d8de71491e77');\n",
              "          const dataTable =\n",
              "            await google.colab.kernel.invokeFunction('convertToInteractive',\n",
              "                                                     [key], {});\n",
              "          if (!dataTable) return;\n",
              "\n",
              "          const docLinkHtml = 'Like what you see? Visit the ' +\n",
              "            '<a target=\"_blank\" href=https://colab.research.google.com/notebooks/data_table.ipynb>data table notebook</a>'\n",
              "            + ' to learn more about interactive tables.';\n",
              "          element.innerHTML = '';\n",
              "          dataTable['output_type'] = 'display_data';\n",
              "          await google.colab.output.renderOutput(dataTable, element);\n",
              "          const docLink = document.createElement('div');\n",
              "          docLink.innerHTML = docLinkHtml;\n",
              "          element.appendChild(docLink);\n",
              "        }\n",
              "      </script>\n",
              "    </div>\n",
              "  </div>\n",
              "  "
            ],
            "text/plain": [
              "       pregnancies     glucose   diastolic  ...         dpf         age    diabetes\n",
              "count   768.000000  768.000000  768.000000  ...  768.000000  768.000000  768.000000\n",
              "mean      3.845052  120.894531   69.105469  ...    0.471876   33.240885    0.348958\n",
              "std       3.369578   31.972618   19.355807  ...    0.331329   11.760232    0.476951\n",
              "min       0.000000    0.000000    0.000000  ...    0.078000   21.000000    0.000000\n",
              "25%       1.000000   99.000000   62.000000  ...    0.243750   24.000000    0.000000\n",
              "50%       3.000000  117.000000   72.000000  ...    0.372500   29.000000    0.000000\n",
              "75%       6.000000  140.250000   80.000000  ...    0.626250   41.000000    1.000000\n",
              "max      17.000000  199.000000  122.000000  ...    2.420000   81.000000    1.000000\n",
              "\n",
              "[8 rows x 9 columns]"
            ]
          },
          "metadata": {},
          "execution_count": 9
        }
      ]
    },
    {
      "cell_type": "code",
      "source": [
        "X_train.shape, X_test.shape, y_train.shape, y_test.shape"
      ],
      "metadata": {
        "colab": {
          "base_uri": "https://localhost:8080/"
        },
        "id": "0htWs4QYV2Ov",
        "outputId": "7a5c0ded-5c6b-40b0-c6f2-8e20c84779e6"
      },
      "execution_count": null,
      "outputs": [
        {
          "output_type": "execute_result",
          "data": {
            "text/plain": [
              "((537, 8), (231, 8), (537, 1), (231, 1))"
            ]
          },
          "metadata": {},
          "execution_count": 11
        }
      ]
    },
    {
      "cell_type": "code",
      "source": [
        "from sklearn.linear_model import LogisticRegression"
      ],
      "metadata": {
        "id": "0o_mj-KnV5J6"
      },
      "execution_count": null,
      "outputs": []
    },
    {
      "cell_type": "code",
      "source": [
        "model = LogisticRegression(max_iter=500, random_state = 252)"
      ],
      "metadata": {
        "id": "blJCzQQPWKeD"
      },
      "execution_count": null,
      "outputs": []
    },
    {
      "cell_type": "code",
      "source": [
        "model"
      ],
      "metadata": {
        "colab": {
          "base_uri": "https://localhost:8080/"
        },
        "id": "THH-UolbWPa_",
        "outputId": "e19f6197-45d9-44de-d9e3-70010ca2a677"
      },
      "execution_count": null,
      "outputs": [
        {
          "output_type": "execute_result",
          "data": {
            "text/plain": [
              "LogisticRegression(max_iter=500, random_state=252)"
            ]
          },
          "metadata": {},
          "execution_count": 14
        }
      ]
    },
    {
      "cell_type": "code",
      "source": [
        "model.fit(X_train, y_train)"
      ],
      "metadata": {
        "colab": {
          "base_uri": "https://localhost:8080/"
        },
        "id": "A5HTz6giWQ_N",
        "outputId": "71d4874a-341e-4714-d927-09e90d042837"
      },
      "execution_count": null,
      "outputs": [
        {
          "output_type": "stream",
          "name": "stderr",
          "text": [
            "/usr/local/lib/python3.7/dist-packages/sklearn/utils/validation.py:985: DataConversionWarning: A column-vector y was passed when a 1d array was expected. Please change the shape of y to (n_samples, ), for example using ravel().\n",
            "  y = column_or_1d(y, warn=True)\n"
          ]
        },
        {
          "output_type": "execute_result",
          "data": {
            "text/plain": [
              "LogisticRegression(max_iter=500, random_state=252)"
            ]
          },
          "metadata": {},
          "execution_count": 16
        }
      ]
    },
    {
      "cell_type": "code",
      "source": [
        "y_pred = model.predict(X_test)"
      ],
      "metadata": {
        "id": "UkH1gnXBWUj7"
      },
      "execution_count": null,
      "outputs": []
    },
    {
      "cell_type": "code",
      "source": [
        "y_pred"
      ],
      "metadata": {
        "colab": {
          "base_uri": "https://localhost:8080/"
        },
        "id": "BCwmY4txWh7F",
        "outputId": "44806ca4-68c2-4ef8-b856-146c7fea3cde"
      },
      "execution_count": null,
      "outputs": [
        {
          "output_type": "execute_result",
          "data": {
            "text/plain": [
              "array([0, 0, 0, 0, 0, 1, 1, 0, 0, 0, 1, 1, 0, 0, 0, 0, 0, 0, 0, 0, 0, 0,\n",
              "       0, 1, 1, 1, 0, 0, 0, 0, 1, 0, 0, 0, 0, 0, 0, 0, 0, 0, 1, 0, 0, 0,\n",
              "       0, 0, 1, 0, 1, 0, 0, 0, 0, 0, 1, 0, 0, 0, 0, 0, 0, 1, 0, 0, 0, 0,\n",
              "       1, 0, 0, 1, 1, 0, 0, 1, 0, 0, 0, 0, 1, 1, 1, 0, 0, 0, 0, 0, 0, 1,\n",
              "       0, 1, 0, 1, 0, 0, 0, 0, 0, 0, 0, 0, 0, 1, 0, 1, 0, 1, 1, 1, 1, 0,\n",
              "       0, 0, 0, 1, 1, 1, 1, 0, 1, 1, 0, 0, 1, 0, 0, 1, 1, 0, 1, 0, 0, 1,\n",
              "       0, 0, 0, 0, 0, 0, 0, 0, 0, 0, 0, 0, 0, 0, 1, 0, 0, 0, 0, 0, 0, 0,\n",
              "       0, 0, 0, 0, 0, 0, 0, 0, 1, 0, 1, 0, 0, 1, 0, 0, 0, 0, 0, 0, 0, 0,\n",
              "       1, 1, 1, 0, 0, 0, 1, 0, 1, 0, 0, 1, 0, 1, 0, 1, 0, 0, 0, 0, 1, 0,\n",
              "       0, 1, 0, 1, 1, 1, 1, 1, 0, 0, 0, 0, 0, 1, 0, 0, 0, 0, 0, 0, 0, 0,\n",
              "       1, 1, 0, 1, 0, 1, 0, 0, 0, 0, 0])"
            ]
          },
          "metadata": {},
          "execution_count": 18
        }
      ]
    },
    {
      "cell_type": "code",
      "source": [
        "model.predict_proba(X_test)"
      ],
      "metadata": {
        "colab": {
          "base_uri": "https://localhost:8080/"
        },
        "id": "Ms778H7uWknH",
        "outputId": "2085d190-ef61-4564-b67f-cdca415f3b56"
      },
      "execution_count": null,
      "outputs": [
        {
          "output_type": "execute_result",
          "data": {
            "text/plain": [
              "array([[0.84025219, 0.15974781],\n",
              "       [0.57367965, 0.42632035],\n",
              "       [0.85701222, 0.14298778],\n",
              "       [0.89616561, 0.10383439],\n",
              "       [0.67384896, 0.32615104],\n",
              "       [0.16647539, 0.83352461],\n",
              "       [0.10901674, 0.89098326],\n",
              "       [0.57264906, 0.42735094],\n",
              "       [0.95143371, 0.04856629],\n",
              "       [0.95451936, 0.04548064],\n",
              "       [0.35482772, 0.64517228],\n",
              "       [0.24579219, 0.75420781],\n",
              "       [0.69313781, 0.30686219],\n",
              "       [0.96263661, 0.03736339],\n",
              "       [0.67849701, 0.32150299],\n",
              "       [0.89820422, 0.10179578],\n",
              "       [0.56937439, 0.43062561],\n",
              "       [0.90637079, 0.09362921],\n",
              "       [0.88842265, 0.11157735],\n",
              "       [0.94861774, 0.05138226],\n",
              "       [0.97949401, 0.02050599],\n",
              "       [0.9591041 , 0.0408959 ],\n",
              "       [0.69878296, 0.30121704],\n",
              "       [0.03656019, 0.96343981],\n",
              "       [0.27369135, 0.72630865],\n",
              "       [0.35555964, 0.64444036],\n",
              "       [0.57983985, 0.42016015],\n",
              "       [0.93010994, 0.06989006],\n",
              "       [0.91099028, 0.08900972],\n",
              "       [0.68155891, 0.31844109],\n",
              "       [0.32545058, 0.67454942],\n",
              "       [0.76123899, 0.23876101],\n",
              "       [0.73495219, 0.26504781],\n",
              "       [0.8585905 , 0.1414095 ],\n",
              "       [0.57313506, 0.42686494],\n",
              "       [0.93707994, 0.06292006],\n",
              "       [0.53569794, 0.46430206],\n",
              "       [0.82954581, 0.17045419],\n",
              "       [0.73681145, 0.26318855],\n",
              "       [0.65346959, 0.34653041],\n",
              "       [0.02109252, 0.97890748],\n",
              "       [0.87163724, 0.12836276],\n",
              "       [0.95428319, 0.04571681],\n",
              "       [0.64423416, 0.35576584],\n",
              "       [0.89701287, 0.10298713],\n",
              "       [0.79285325, 0.20714675],\n",
              "       [0.46103322, 0.53896678],\n",
              "       [0.78569496, 0.21430504],\n",
              "       [0.07473586, 0.92526414],\n",
              "       [0.91689505, 0.08310495],\n",
              "       [0.97046989, 0.02953011],\n",
              "       [0.87637402, 0.12362598],\n",
              "       [0.87411298, 0.12588702],\n",
              "       [0.9085339 , 0.0914661 ],\n",
              "       [0.33425073, 0.66574927],\n",
              "       [0.91715477, 0.08284523],\n",
              "       [0.88579168, 0.11420832],\n",
              "       [0.57080811, 0.42919189],\n",
              "       [0.92989   , 0.07011   ],\n",
              "       [0.737791  , 0.262209  ],\n",
              "       [0.76242579, 0.23757421],\n",
              "       [0.45754372, 0.54245628],\n",
              "       [0.74022307, 0.25977693],\n",
              "       [0.65272891, 0.34727109],\n",
              "       [0.75730657, 0.24269343],\n",
              "       [0.65671954, 0.34328046],\n",
              "       [0.37590701, 0.62409299],\n",
              "       [0.84915252, 0.15084748],\n",
              "       [0.69701207, 0.30298793],\n",
              "       [0.21703771, 0.78296229],\n",
              "       [0.18662273, 0.81337727],\n",
              "       [0.86731137, 0.13268863],\n",
              "       [0.94894409, 0.05105591],\n",
              "       [0.14701373, 0.85298627],\n",
              "       [0.64413721, 0.35586279],\n",
              "       [0.96391505, 0.03608495],\n",
              "       [0.54855485, 0.45144515],\n",
              "       [0.97554806, 0.02445194],\n",
              "       [0.13916955, 0.86083045],\n",
              "       [0.19925079, 0.80074921],\n",
              "       [0.0394757 , 0.9605243 ],\n",
              "       [0.76333137, 0.23666863],\n",
              "       [0.70249026, 0.29750974],\n",
              "       [0.55659368, 0.44340632],\n",
              "       [0.89678767, 0.10321233],\n",
              "       [0.83755609, 0.16244391],\n",
              "       [0.96611888, 0.03388112],\n",
              "       [0.22857166, 0.77142834],\n",
              "       [0.97845591, 0.02154409],\n",
              "       [0.45631567, 0.54368433],\n",
              "       [0.85203482, 0.14796518],\n",
              "       [0.40230008, 0.59769992],\n",
              "       [0.98809392, 0.01190608],\n",
              "       [0.91077393, 0.08922607],\n",
              "       [0.56462053, 0.43537947],\n",
              "       [0.93404256, 0.06595744],\n",
              "       [0.60474068, 0.39525932],\n",
              "       [0.85613892, 0.14386108],\n",
              "       [0.77367206, 0.22632794],\n",
              "       [0.81451835, 0.18548165],\n",
              "       [0.84028922, 0.15971078],\n",
              "       [0.16678498, 0.83321502],\n",
              "       [0.61736228, 0.38263772],\n",
              "       [0.12210687, 0.87789313],\n",
              "       [0.79291476, 0.20708524],\n",
              "       [0.42100576, 0.57899424],\n",
              "       [0.34690851, 0.65309149],\n",
              "       [0.29960254, 0.70039746],\n",
              "       [0.31474899, 0.68525101],\n",
              "       [0.77207973, 0.22792027],\n",
              "       [0.88144324, 0.11855676],\n",
              "       [0.76951913, 0.23048087],\n",
              "       [0.55253363, 0.44746637],\n",
              "       [0.07874297, 0.92125703],\n",
              "       [0.02994025, 0.97005975],\n",
              "       [0.35742519, 0.64257481],\n",
              "       [0.21399166, 0.78600834],\n",
              "       [0.96715041, 0.03284959],\n",
              "       [0.14882132, 0.85117868],\n",
              "       [0.45484097, 0.54515903],\n",
              "       [0.89974668, 0.10025332],\n",
              "       [0.82563914, 0.17436086],\n",
              "       [0.20900213, 0.79099787],\n",
              "       [0.65574271, 0.34425729],\n",
              "       [0.54686082, 0.45313918],\n",
              "       [0.17350327, 0.82649673],\n",
              "       [0.25377644, 0.74622356],\n",
              "       [0.57984643, 0.42015357],\n",
              "       [0.34954178, 0.65045822],\n",
              "       [0.97490121, 0.02509879],\n",
              "       [0.8714028 , 0.1285972 ],\n",
              "       [0.39633873, 0.60366127],\n",
              "       [0.60617251, 0.39382749],\n",
              "       [0.82736078, 0.17263922],\n",
              "       [0.98883286, 0.01116714],\n",
              "       [0.52376809, 0.47623191],\n",
              "       [0.74574016, 0.25425984],\n",
              "       [0.81447392, 0.18552608],\n",
              "       [0.75494675, 0.24505325],\n",
              "       [0.841067  , 0.158933  ],\n",
              "       [0.82127245, 0.17872755],\n",
              "       [0.70415165, 0.29584835],\n",
              "       [0.96156978, 0.03843022],\n",
              "       [0.85023992, 0.14976008],\n",
              "       [0.87188279, 0.12811721],\n",
              "       [0.77390715, 0.22609285],\n",
              "       [0.39524441, 0.60475559],\n",
              "       [0.50245675, 0.49754325],\n",
              "       [0.56296873, 0.43703127],\n",
              "       [0.52041564, 0.47958436],\n",
              "       [0.8546755 , 0.1453245 ],\n",
              "       [0.95669943, 0.04330057],\n",
              "       [0.92559127, 0.07440873],\n",
              "       [0.70774527, 0.29225473],\n",
              "       [0.89999117, 0.10000883],\n",
              "       [0.80843354, 0.19156646],\n",
              "       [0.96423693, 0.03576307],\n",
              "       [0.97265486, 0.02734514],\n",
              "       [0.87472627, 0.12527373],\n",
              "       [0.82028487, 0.17971513],\n",
              "       [0.80314012, 0.19685988],\n",
              "       [0.88570341, 0.11429659],\n",
              "       [0.09232223, 0.90767777],\n",
              "       [0.82058884, 0.17941116],\n",
              "       [0.09333291, 0.90666709],\n",
              "       [0.70698006, 0.29301994],\n",
              "       [0.9008856 , 0.0991144 ],\n",
              "       [0.10412971, 0.89587029],\n",
              "       [0.92942966, 0.07057034],\n",
              "       [0.8651071 , 0.1348929 ],\n",
              "       [0.91225326, 0.08774674],\n",
              "       [0.95822587, 0.04177413],\n",
              "       [0.76741195, 0.23258805],\n",
              "       [0.92722909, 0.07277091],\n",
              "       [0.94400258, 0.05599742],\n",
              "       [0.92831968, 0.07168032],\n",
              "       [0.45946987, 0.54053013],\n",
              "       [0.49436759, 0.50563241],\n",
              "       [0.18029697, 0.81970303],\n",
              "       [0.84474538, 0.15525462],\n",
              "       [0.93495871, 0.06504129],\n",
              "       [0.78884472, 0.21115528],\n",
              "       [0.20215578, 0.79784422],\n",
              "       [0.95421655, 0.04578345],\n",
              "       [0.04621658, 0.95378342],\n",
              "       [0.96582987, 0.03417013],\n",
              "       [0.78701699, 0.21298301],\n",
              "       [0.35755804, 0.64244196],\n",
              "       [0.96463347, 0.03536653],\n",
              "       [0.48889341, 0.51110659],\n",
              "       [0.71808004, 0.28191996],\n",
              "       [0.29089001, 0.70910999],\n",
              "       [0.86573742, 0.13426258],\n",
              "       [0.68827972, 0.31172028],\n",
              "       [0.89815508, 0.10184492],\n",
              "       [0.71151999, 0.28848001],\n",
              "       [0.28071725, 0.71928275],\n",
              "       [0.98907609, 0.01092391],\n",
              "       [0.98267006, 0.01732994],\n",
              "       [0.203701  , 0.796299  ],\n",
              "       [0.91155906, 0.08844094],\n",
              "       [0.05147839, 0.94852161],\n",
              "       [0.3500405 , 0.6499595 ],\n",
              "       [0.41932267, 0.58067733],\n",
              "       [0.2069772 , 0.7930228 ],\n",
              "       [0.20197215, 0.79802785],\n",
              "       [0.86603607, 0.13396393],\n",
              "       [0.92752418, 0.07247582],\n",
              "       [0.64404876, 0.35595124],\n",
              "       [0.83304275, 0.16695725],\n",
              "       [0.97890686, 0.02109314],\n",
              "       [0.08546761, 0.91453239],\n",
              "       [0.50678173, 0.49321827],\n",
              "       [0.93761518, 0.06238482],\n",
              "       [0.61657152, 0.38342848],\n",
              "       [0.80640993, 0.19359007],\n",
              "       [0.76872852, 0.23127148],\n",
              "       [0.89431916, 0.10568084],\n",
              "       [0.73844887, 0.26155113],\n",
              "       [0.88113195, 0.11886805],\n",
              "       [0.04849043, 0.95150957],\n",
              "       [0.45863678, 0.54136322],\n",
              "       [0.90738342, 0.09261658],\n",
              "       [0.23760037, 0.76239963],\n",
              "       [0.91153787, 0.08846213],\n",
              "       [0.20543563, 0.79456437],\n",
              "       [0.92330322, 0.07669678],\n",
              "       [0.89425714, 0.10574286],\n",
              "       [0.53437899, 0.46562101],\n",
              "       [0.98299983, 0.01700017],\n",
              "       [0.70879199, 0.29120801]])"
            ]
          },
          "metadata": {},
          "execution_count": 19
        }
      ]
    },
    {
      "cell_type": "code",
      "source": [
        "from sklearn.metrics import confusion_matrix, classification_report"
      ],
      "metadata": {
        "id": "X-b0tFoxxcEV"
      },
      "execution_count": null,
      "outputs": []
    },
    {
      "cell_type": "code",
      "source": [
        "confusion_matrix(y_test,y_pred)"
      ],
      "metadata": {
        "colab": {
          "base_uri": "https://localhost:8080/"
        },
        "id": "F5SBLg4Mx1x-",
        "outputId": "ea4cf494-eb32-4a11-b1ff-6f565c42a99e"
      },
      "execution_count": null,
      "outputs": [
        {
          "output_type": "execute_result",
          "data": {
            "text/plain": [
              "array([[133,  20],\n",
              "       [ 34,  44]])"
            ]
          },
          "metadata": {},
          "execution_count": 21
        }
      ]
    },
    {
      "cell_type": "code",
      "source": [
        "print(classification_report(y_test, y_pred))"
      ],
      "metadata": {
        "colab": {
          "base_uri": "https://localhost:8080/"
        },
        "id": "DgyatdiUXDRj",
        "outputId": "d1e44203-d5d1-4db6-d178-c32eb4efa01a"
      },
      "execution_count": null,
      "outputs": [
        {
          "output_type": "stream",
          "name": "stdout",
          "text": [
            "              precision    recall  f1-score   support\n",
            "\n",
            "           0       0.80      0.87      0.83       153\n",
            "           1       0.69      0.56      0.62        78\n",
            "\n",
            "    accuracy                           0.77       231\n",
            "   macro avg       0.74      0.72      0.73       231\n",
            "weighted avg       0.76      0.77      0.76       231\n",
            "\n"
          ]
        }
      ]
    },
    {
      "cell_type": "code",
      "source": [
        "import statsmodels.api as sm"
      ],
      "metadata": {
        "id": "R9MHIiRfXK6d"
      },
      "execution_count": null,
      "outputs": []
    },
    {
      "cell_type": "code",
      "source": [
        "X = sm.add_constant(X)"
      ],
      "metadata": {
        "id": "wVM6tqoGXcsI"
      },
      "execution_count": null,
      "outputs": []
    },
    {
      "cell_type": "code",
      "source": [
        "X.head()"
      ],
      "metadata": {
        "colab": {
          "base_uri": "https://localhost:8080/",
          "height": 206
        },
        "id": "R74eSnUFE29j",
        "outputId": "5c6ff5ea-a300-43ba-9312-003abbe04137"
      },
      "execution_count": null,
      "outputs": [
        {
          "output_type": "execute_result",
          "data": {
            "text/html": [
              "\n",
              "  <div id=\"df-973f6c09-32f8-4945-8398-1e69794ce947\">\n",
              "    <div class=\"colab-df-container\">\n",
              "      <div>\n",
              "<style scoped>\n",
              "    .dataframe tbody tr th:only-of-type {\n",
              "        vertical-align: middle;\n",
              "    }\n",
              "\n",
              "    .dataframe tbody tr th {\n",
              "        vertical-align: top;\n",
              "    }\n",
              "\n",
              "    .dataframe thead th {\n",
              "        text-align: right;\n",
              "    }\n",
              "</style>\n",
              "<table border=\"1\" class=\"dataframe\">\n",
              "  <thead>\n",
              "    <tr style=\"text-align: right;\">\n",
              "      <th></th>\n",
              "      <th>const</th>\n",
              "      <th>pregnancies</th>\n",
              "      <th>glucose</th>\n",
              "      <th>diastolic</th>\n",
              "      <th>triceps</th>\n",
              "      <th>insulin</th>\n",
              "      <th>bmi</th>\n",
              "      <th>dpf</th>\n",
              "      <th>age</th>\n",
              "    </tr>\n",
              "  </thead>\n",
              "  <tbody>\n",
              "    <tr>\n",
              "      <th>0</th>\n",
              "      <td>1.0</td>\n",
              "      <td>6</td>\n",
              "      <td>148</td>\n",
              "      <td>72</td>\n",
              "      <td>35</td>\n",
              "      <td>0</td>\n",
              "      <td>33.6</td>\n",
              "      <td>0.627</td>\n",
              "      <td>50</td>\n",
              "    </tr>\n",
              "    <tr>\n",
              "      <th>1</th>\n",
              "      <td>1.0</td>\n",
              "      <td>1</td>\n",
              "      <td>85</td>\n",
              "      <td>66</td>\n",
              "      <td>29</td>\n",
              "      <td>0</td>\n",
              "      <td>26.6</td>\n",
              "      <td>0.351</td>\n",
              "      <td>31</td>\n",
              "    </tr>\n",
              "    <tr>\n",
              "      <th>2</th>\n",
              "      <td>1.0</td>\n",
              "      <td>8</td>\n",
              "      <td>183</td>\n",
              "      <td>64</td>\n",
              "      <td>0</td>\n",
              "      <td>0</td>\n",
              "      <td>23.3</td>\n",
              "      <td>0.672</td>\n",
              "      <td>32</td>\n",
              "    </tr>\n",
              "    <tr>\n",
              "      <th>3</th>\n",
              "      <td>1.0</td>\n",
              "      <td>1</td>\n",
              "      <td>89</td>\n",
              "      <td>66</td>\n",
              "      <td>23</td>\n",
              "      <td>94</td>\n",
              "      <td>28.1</td>\n",
              "      <td>0.167</td>\n",
              "      <td>21</td>\n",
              "    </tr>\n",
              "    <tr>\n",
              "      <th>4</th>\n",
              "      <td>1.0</td>\n",
              "      <td>0</td>\n",
              "      <td>137</td>\n",
              "      <td>40</td>\n",
              "      <td>35</td>\n",
              "      <td>168</td>\n",
              "      <td>43.1</td>\n",
              "      <td>2.288</td>\n",
              "      <td>33</td>\n",
              "    </tr>\n",
              "  </tbody>\n",
              "</table>\n",
              "</div>\n",
              "      <button class=\"colab-df-convert\" onclick=\"convertToInteractive('df-973f6c09-32f8-4945-8398-1e69794ce947')\"\n",
              "              title=\"Convert this dataframe to an interactive table.\"\n",
              "              style=\"display:none;\">\n",
              "        \n",
              "  <svg xmlns=\"http://www.w3.org/2000/svg\" height=\"24px\"viewBox=\"0 0 24 24\"\n",
              "       width=\"24px\">\n",
              "    <path d=\"M0 0h24v24H0V0z\" fill=\"none\"/>\n",
              "    <path d=\"M18.56 5.44l.94 2.06.94-2.06 2.06-.94-2.06-.94-.94-2.06-.94 2.06-2.06.94zm-11 1L8.5 8.5l.94-2.06 2.06-.94-2.06-.94L8.5 2.5l-.94 2.06-2.06.94zm10 10l.94 2.06.94-2.06 2.06-.94-2.06-.94-.94-2.06-.94 2.06-2.06.94z\"/><path d=\"M17.41 7.96l-1.37-1.37c-.4-.4-.92-.59-1.43-.59-.52 0-1.04.2-1.43.59L10.3 9.45l-7.72 7.72c-.78.78-.78 2.05 0 2.83L4 21.41c.39.39.9.59 1.41.59.51 0 1.02-.2 1.41-.59l7.78-7.78 2.81-2.81c.8-.78.8-2.07 0-2.86zM5.41 20L4 18.59l7.72-7.72 1.47 1.35L5.41 20z\"/>\n",
              "  </svg>\n",
              "      </button>\n",
              "      \n",
              "  <style>\n",
              "    .colab-df-container {\n",
              "      display:flex;\n",
              "      flex-wrap:wrap;\n",
              "      gap: 12px;\n",
              "    }\n",
              "\n",
              "    .colab-df-convert {\n",
              "      background-color: #E8F0FE;\n",
              "      border: none;\n",
              "      border-radius: 50%;\n",
              "      cursor: pointer;\n",
              "      display: none;\n",
              "      fill: #1967D2;\n",
              "      height: 32px;\n",
              "      padding: 0 0 0 0;\n",
              "      width: 32px;\n",
              "    }\n",
              "\n",
              "    .colab-df-convert:hover {\n",
              "      background-color: #E2EBFA;\n",
              "      box-shadow: 0px 1px 2px rgba(60, 64, 67, 0.3), 0px 1px 3px 1px rgba(60, 64, 67, 0.15);\n",
              "      fill: #174EA6;\n",
              "    }\n",
              "\n",
              "    [theme=dark] .colab-df-convert {\n",
              "      background-color: #3B4455;\n",
              "      fill: #D2E3FC;\n",
              "    }\n",
              "\n",
              "    [theme=dark] .colab-df-convert:hover {\n",
              "      background-color: #434B5C;\n",
              "      box-shadow: 0px 1px 3px 1px rgba(0, 0, 0, 0.15);\n",
              "      filter: drop-shadow(0px 1px 2px rgba(0, 0, 0, 0.3));\n",
              "      fill: #FFFFFF;\n",
              "    }\n",
              "  </style>\n",
              "\n",
              "      <script>\n",
              "        const buttonEl =\n",
              "          document.querySelector('#df-973f6c09-32f8-4945-8398-1e69794ce947 button.colab-df-convert');\n",
              "        buttonEl.style.display =\n",
              "          google.colab.kernel.accessAllowed ? 'block' : 'none';\n",
              "\n",
              "        async function convertToInteractive(key) {\n",
              "          const element = document.querySelector('#df-973f6c09-32f8-4945-8398-1e69794ce947');\n",
              "          const dataTable =\n",
              "            await google.colab.kernel.invokeFunction('convertToInteractive',\n",
              "                                                     [key], {});\n",
              "          if (!dataTable) return;\n",
              "\n",
              "          const docLinkHtml = 'Like what you see? Visit the ' +\n",
              "            '<a target=\"_blank\" href=https://colab.research.google.com/notebooks/data_table.ipynb>data table notebook</a>'\n",
              "            + ' to learn more about interactive tables.';\n",
              "          element.innerHTML = '';\n",
              "          dataTable['output_type'] = 'display_data';\n",
              "          await google.colab.output.renderOutput(dataTable, element);\n",
              "          const docLink = document.createElement('div');\n",
              "          docLink.innerHTML = docLinkHtml;\n",
              "          element.appendChild(docLink);\n",
              "        }\n",
              "      </script>\n",
              "    </div>\n",
              "  </div>\n",
              "  "
            ],
            "text/plain": [
              "   const  pregnancies  glucose  diastolic  triceps  insulin   bmi    dpf  age\n",
              "0    1.0            6      148         72       35        0  33.6  0.627   50\n",
              "1    1.0            1       85         66       29        0  26.6  0.351   31\n",
              "2    1.0            8      183         64        0        0  23.3  0.672   32\n",
              "3    1.0            1       89         66       23       94  28.1  0.167   21\n",
              "4    1.0            0      137         40       35      168  43.1  2.288   33"
            ]
          },
          "metadata": {},
          "execution_count": 26
        }
      ]
    },
    {
      "cell_type": "code",
      "source": [
        "model = sm.Logit(y, X)"
      ],
      "metadata": {
        "id": "K3KP7juVE_bF"
      },
      "execution_count": null,
      "outputs": []
    },
    {
      "cell_type": "code",
      "source": [
        "result = model.fit()"
      ],
      "metadata": {
        "colab": {
          "base_uri": "https://localhost:8080/"
        },
        "id": "MtTsYVJmFCBl",
        "outputId": "8ef7dda3-9bff-4190-e9e7-b27ef2c4bae2"
      },
      "execution_count": null,
      "outputs": [
        {
          "output_type": "stream",
          "name": "stdout",
          "text": [
            "Optimization terminated successfully.\n",
            "         Current function value: 0.470993\n",
            "         Iterations 6\n"
          ]
        }
      ]
    },
    {
      "cell_type": "code",
      "source": [
        "print(result.summary())"
      ],
      "metadata": {
        "colab": {
          "base_uri": "https://localhost:8080/"
        },
        "id": "MZzSnRbGFIhp",
        "outputId": "23f6b86e-2513-44c2-f8ce-2e4341d29880"
      },
      "execution_count": null,
      "outputs": [
        {
          "output_type": "stream",
          "name": "stdout",
          "text": [
            "                           Logit Regression Results                           \n",
            "==============================================================================\n",
            "Dep. Variable:               diabetes   No. Observations:                  768\n",
            "Model:                          Logit   Df Residuals:                      759\n",
            "Method:                           MLE   Df Model:                            8\n",
            "Date:                Sun, 19 Dec 2021   Pseudo R-squ.:                  0.2718\n",
            "Time:                        09:45:21   Log-Likelihood:                -361.72\n",
            "converged:                       True   LL-Null:                       -496.74\n",
            "Covariance Type:            nonrobust   LLR p-value:                 9.652e-54\n",
            "===============================================================================\n",
            "                  coef    std err          z      P>|z|      [0.025      0.975]\n",
            "-------------------------------------------------------------------------------\n",
            "const          -8.4047      0.717    -11.728      0.000      -9.809      -7.000\n",
            "pregnancies     0.1232      0.032      3.840      0.000       0.060       0.186\n",
            "glucose         0.0352      0.004      9.481      0.000       0.028       0.042\n",
            "diastolic      -0.0133      0.005     -2.540      0.011      -0.024      -0.003\n",
            "triceps         0.0006      0.007      0.090      0.929      -0.013       0.014\n",
            "insulin        -0.0012      0.001     -1.322      0.186      -0.003       0.001\n",
            "bmi             0.0897      0.015      5.945      0.000       0.060       0.119\n",
            "dpf             0.9452      0.299      3.160      0.002       0.359       1.531\n",
            "age             0.0149      0.009      1.593      0.111      -0.003       0.033\n",
            "===============================================================================\n"
          ]
        }
      ]
    },
    {
      "cell_type": "markdown",
      "source": [
        "As we can see in the **P** Column,the feature which is greater than 0.5% are Diastolic,Triceps,Insulin and age .These feature does not help to find the patient of Diabetes significantally.So ,we can remove these feature from model and recreate the model. "
      ],
      "metadata": {
        "id": "yC5rsBxIFRYL"
      }
    },
    {
      "cell_type": "markdown",
      "source": [
        "**Recreation of Model with significant Feature**"
      ],
      "metadata": {
        "id": "caByvXW-KGzS"
      }
    },
    {
      "cell_type": "code",
      "source": [
        "#Redifining feature \n",
        "X = df[['pregnancies', 'glucose', 'bmi',\n",
        "       'dpf']]"
      ],
      "metadata": {
        "id": "JIcoiZMWFNwP"
      },
      "execution_count": null,
      "outputs": []
    },
    {
      "cell_type": "code",
      "source": [
        "X.shape"
      ],
      "metadata": {
        "colab": {
          "base_uri": "https://localhost:8080/"
        },
        "id": "XjHI7mNHGqQW",
        "outputId": "936db974-e2d5-41fc-8ba1-9a308a6d8c55"
      },
      "execution_count": null,
      "outputs": [
        {
          "output_type": "execute_result",
          "data": {
            "text/plain": [
              "(768, 4)"
            ]
          },
          "metadata": {},
          "execution_count": 31
        }
      ]
    },
    {
      "cell_type": "code",
      "source": [
        "#Target will be same\n",
        "y = df['diabetes']"
      ],
      "metadata": {
        "id": "8AbNDr6dGzuW"
      },
      "execution_count": null,
      "outputs": []
    },
    {
      "cell_type": "code",
      "source": [
        "# train_test_split\n",
        "\n",
        "from sklearn.model_selection import train_test_split\n",
        "\n",
        "X_train, X_test, y_train, y_test = train_test_split( X, y, train_size = 0.7, random_state = 252)\n"
      ],
      "metadata": {
        "id": "XHii4oudHBRx"
      },
      "execution_count": null,
      "outputs": []
    },
    {
      "cell_type": "code",
      "source": [
        "X_train.shape, X_test.shape, y_train.shape, y_test.shape"
      ],
      "metadata": {
        "colab": {
          "base_uri": "https://localhost:8080/"
        },
        "id": "X_1iS571HH8x",
        "outputId": "24d1be9c-16d9-492b-8cce-a89dbc2b2803"
      },
      "execution_count": null,
      "outputs": [
        {
          "output_type": "execute_result",
          "data": {
            "text/plain": [
              "((537, 4), (231, 4), (537,), (231,))"
            ]
          },
          "metadata": {},
          "execution_count": 34
        }
      ]
    },
    {
      "cell_type": "code",
      "source": [
        "model = LogisticRegression(max_iter=500, random_state = 252)"
      ],
      "metadata": {
        "id": "S-XVBgMnHMfR"
      },
      "execution_count": null,
      "outputs": []
    },
    {
      "cell_type": "code",
      "source": [
        "model.fit(X_train, y_train)"
      ],
      "metadata": {
        "colab": {
          "base_uri": "https://localhost:8080/"
        },
        "id": "VA9OpJMIHT6T",
        "outputId": "ae1b4a05-f1d5-4011-effd-5067760ad113"
      },
      "execution_count": null,
      "outputs": [
        {
          "output_type": "execute_result",
          "data": {
            "text/plain": [
              "LogisticRegression(max_iter=500, random_state=252)"
            ]
          },
          "metadata": {},
          "execution_count": 36
        }
      ]
    },
    {
      "cell_type": "code",
      "source": [
        "y_pred = model.predict(X_test)"
      ],
      "metadata": {
        "id": "sN7gsG5ZHXmX"
      },
      "execution_count": null,
      "outputs": []
    },
    {
      "cell_type": "code",
      "source": [
        "y_pred"
      ],
      "metadata": {
        "colab": {
          "base_uri": "https://localhost:8080/"
        },
        "id": "urCp4lQVHb9r",
        "outputId": "d842a5e1-cc8d-4f96-9110-6bbeebe129e8"
      },
      "execution_count": null,
      "outputs": [
        {
          "output_type": "execute_result",
          "data": {
            "text/plain": [
              "array([0, 0, 0, 0, 0, 1, 1, 0, 0, 0, 1, 1, 0, 0, 0, 0, 1, 0, 0, 0, 0, 0,\n",
              "       0, 1, 1, 1, 0, 0, 0, 0, 1, 0, 0, 0, 0, 0, 0, 0, 0, 0, 1, 0, 0, 0,\n",
              "       0, 0, 1, 0, 1, 0, 0, 0, 0, 0, 1, 0, 0, 1, 0, 0, 0, 0, 0, 0, 0, 0,\n",
              "       0, 0, 0, 1, 1, 0, 0, 1, 0, 0, 1, 0, 1, 1, 1, 0, 0, 0, 0, 0, 0, 1,\n",
              "       0, 1, 0, 0, 0, 0, 0, 0, 0, 0, 0, 0, 0, 1, 0, 1, 0, 1, 1, 1, 0, 0,\n",
              "       0, 0, 0, 1, 1, 0, 0, 0, 1, 1, 0, 0, 1, 0, 0, 1, 0, 0, 1, 0, 0, 1,\n",
              "       0, 0, 0, 0, 0, 0, 0, 0, 0, 0, 0, 0, 0, 0, 1, 1, 0, 0, 0, 0, 0, 0,\n",
              "       0, 0, 0, 0, 0, 0, 0, 0, 1, 0, 1, 0, 0, 1, 0, 0, 0, 0, 0, 0, 0, 0,\n",
              "       0, 0, 1, 0, 0, 0, 1, 0, 1, 0, 0, 0, 0, 0, 0, 0, 0, 0, 0, 0, 1, 0,\n",
              "       0, 1, 0, 1, 1, 1, 0, 1, 0, 0, 0, 0, 0, 1, 0, 0, 0, 0, 0, 0, 0, 0,\n",
              "       1, 1, 0, 1, 0, 1, 0, 0, 0, 0, 0])"
            ]
          },
          "metadata": {},
          "execution_count": 38
        }
      ]
    },
    {
      "cell_type": "code",
      "source": [
        "model.predict_proba(X_test)"
      ],
      "metadata": {
        "colab": {
          "base_uri": "https://localhost:8080/"
        },
        "id": "0FZDVYjzHeHN",
        "outputId": "53d69115-26f5-477c-aa02-ab78d22afea4"
      },
      "execution_count": null,
      "outputs": [
        {
          "output_type": "execute_result",
          "data": {
            "text/plain": [
              "array([[0.85473484, 0.14526516],\n",
              "       [0.59063801, 0.40936199],\n",
              "       [0.8276618 , 0.1723382 ],\n",
              "       [0.88248497, 0.11751503],\n",
              "       [0.65946525, 0.34053475],\n",
              "       [0.13756473, 0.86243527],\n",
              "       [0.35484904, 0.64515096],\n",
              "       [0.53019219, 0.46980781],\n",
              "       [0.93297833, 0.06702167],\n",
              "       [0.9537111 , 0.0462889 ],\n",
              "       [0.38146074, 0.61853926],\n",
              "       [0.24495497, 0.75504503],\n",
              "       [0.72913838, 0.27086162],\n",
              "       [0.95656176, 0.04343824],\n",
              "       [0.72684492, 0.27315508],\n",
              "       [0.86860925, 0.13139075],\n",
              "       [0.46814154, 0.53185846],\n",
              "       [0.89934509, 0.10065491],\n",
              "       [0.87363773, 0.12636227],\n",
              "       [0.92987593, 0.07012407],\n",
              "       [0.96782264, 0.03217736],\n",
              "       [0.92429525, 0.07570475],\n",
              "       [0.68987687, 0.31012313],\n",
              "       [0.05347079, 0.94652921],\n",
              "       [0.44708382, 0.55291618],\n",
              "       [0.37279495, 0.62720505],\n",
              "       [0.55924959, 0.44075041],\n",
              "       [0.90785971, 0.09214029],\n",
              "       [0.92373708, 0.07626292],\n",
              "       [0.72600393, 0.27399607],\n",
              "       [0.33057881, 0.66942119],\n",
              "       [0.72884679, 0.27115321],\n",
              "       [0.72623121, 0.27376879],\n",
              "       [0.87262707, 0.12737293],\n",
              "       [0.72240305, 0.27759695],\n",
              "       [0.9235003 , 0.0764997 ],\n",
              "       [0.50632241, 0.49367759],\n",
              "       [0.77291439, 0.22708561],\n",
              "       [0.74251977, 0.25748023],\n",
              "       [0.6955755 , 0.3044245 ],\n",
              "       [0.1030683 , 0.8969317 ],\n",
              "       [0.85824587, 0.14175413],\n",
              "       [0.89273152, 0.10726848],\n",
              "       [0.72255256, 0.27744744],\n",
              "       [0.85654927, 0.14345073],\n",
              "       [0.80812025, 0.19187975],\n",
              "       [0.3629545 , 0.6370455 ],\n",
              "       [0.74958049, 0.25041951],\n",
              "       [0.08774226, 0.91225774],\n",
              "       [0.90970453, 0.09029547],\n",
              "       [0.96130503, 0.03869497],\n",
              "       [0.83259212, 0.16740788],\n",
              "       [0.87353213, 0.12646787],\n",
              "       [0.88811893, 0.11188107],\n",
              "       [0.44122175, 0.55877825],\n",
              "       [0.901347  , 0.098653  ],\n",
              "       [0.9281722 , 0.0718278 ],\n",
              "       [0.48777001, 0.51222999],\n",
              "       [0.93027165, 0.06972835],\n",
              "       [0.65320756, 0.34679244],\n",
              "       [0.72244952, 0.27755048],\n",
              "       [0.5634976 , 0.4365024 ],\n",
              "       [0.9092463 , 0.0907537 ],\n",
              "       [0.58293927, 0.41706073],\n",
              "       [0.77942454, 0.22057546],\n",
              "       [0.64559737, 0.35440263],\n",
              "       [0.67997052, 0.32002948],\n",
              "       [0.86495639, 0.13504361],\n",
              "       [0.640098  , 0.359902  ],\n",
              "       [0.19315451, 0.80684549],\n",
              "       [0.26476278, 0.73523722],\n",
              "       [0.84358972, 0.15641028],\n",
              "       [0.93225793, 0.06774207],\n",
              "       [0.16180734, 0.83819266],\n",
              "       [0.85806037, 0.14193963],\n",
              "       [0.9508676 , 0.0491324 ],\n",
              "       [0.49900571, 0.50099429],\n",
              "       [0.94065101, 0.05934899],\n",
              "       [0.1467387 , 0.8532613 ],\n",
              "       [0.26532791, 0.73467209],\n",
              "       [0.04190226, 0.95809774],\n",
              "       [0.75839007, 0.24160993],\n",
              "       [0.75020005, 0.24979995],\n",
              "       [0.64823224, 0.35176776],\n",
              "       [0.88211867, 0.11788133],\n",
              "       [0.86252337, 0.13747663],\n",
              "       [0.94202691, 0.05797309],\n",
              "       [0.29346276, 0.70653724],\n",
              "       [0.97038895, 0.02961105],\n",
              "       [0.27579232, 0.72420768],\n",
              "       [0.79871315, 0.20128685],\n",
              "       [0.66856941, 0.33143059],\n",
              "       [0.95594618, 0.04405382],\n",
              "       [0.89208691, 0.10791309],\n",
              "       [0.55310661, 0.44689339],\n",
              "       [0.92413167, 0.07586833],\n",
              "       [0.55990711, 0.44009289],\n",
              "       [0.94634646, 0.05365354],\n",
              "       [0.74197312, 0.25802688],\n",
              "       [0.74558862, 0.25441138],\n",
              "       [0.78930968, 0.21069032],\n",
              "       [0.19646524, 0.80353476],\n",
              "       [0.66700095, 0.33299905],\n",
              "       [0.12425913, 0.87574087],\n",
              "       [0.76874449, 0.23125551],\n",
              "       [0.30533412, 0.69466588],\n",
              "       [0.33153632, 0.66846368],\n",
              "       [0.30218477, 0.69781523],\n",
              "       [0.5792095 , 0.4207905 ],\n",
              "       [0.78993076, 0.21006924],\n",
              "       [0.87138186, 0.12861814],\n",
              "       [0.72352928, 0.27647072],\n",
              "       [0.63463599, 0.36536401],\n",
              "       [0.12880487, 0.87119513],\n",
              "       [0.17716531, 0.82283469],\n",
              "       [0.8582037 , 0.1417963 ],\n",
              "       [0.62042707, 0.37957293],\n",
              "       [0.94037835, 0.05962165],\n",
              "       [0.1419874 , 0.8580126 ],\n",
              "       [0.43273447, 0.56726553],\n",
              "       [0.88545101, 0.11454899],\n",
              "       [0.87588362, 0.12411638],\n",
              "       [0.21627034, 0.78372966],\n",
              "       [0.54432412, 0.45567588],\n",
              "       [0.78564837, 0.21435163],\n",
              "       [0.15207134, 0.84792866],\n",
              "       [0.54303899, 0.45696101],\n",
              "       [0.61610846, 0.38389154],\n",
              "       [0.24695758, 0.75304242],\n",
              "       [0.95862101, 0.04137899],\n",
              "       [0.90629855, 0.09370145],\n",
              "       [0.29166923, 0.70833077],\n",
              "       [0.84585694, 0.15414306],\n",
              "       [0.76769762, 0.23230238],\n",
              "       [0.98882938, 0.01117062],\n",
              "       [0.54152042, 0.45847958],\n",
              "       [0.68610399, 0.31389601],\n",
              "       [0.81211629, 0.18788371],\n",
              "       [0.66051041, 0.33948959],\n",
              "       [0.8663201 , 0.1336799 ],\n",
              "       [0.82449985, 0.17550015],\n",
              "       [0.66352983, 0.33647017],\n",
              "       [0.94973777, 0.05026223],\n",
              "       [0.8496438 , 0.1503562 ],\n",
              "       [0.83271782, 0.16728218],\n",
              "       [0.71024062, 0.28975938],\n",
              "       [0.33939108, 0.66060892],\n",
              "       [0.47130877, 0.52869123],\n",
              "       [0.69022886, 0.30977114],\n",
              "       [0.59573492, 0.40426508],\n",
              "       [0.78354348, 0.21645652],\n",
              "       [0.95063145, 0.04936855],\n",
              "       [0.91740731, 0.08259269],\n",
              "       [0.74064097, 0.25935903],\n",
              "       [0.83044381, 0.16955619],\n",
              "       [0.80931296, 0.19068704],\n",
              "       [0.95199644, 0.04800356],\n",
              "       [0.96078127, 0.03921873],\n",
              "       [0.84398084, 0.15601916],\n",
              "       [0.84411646, 0.15588354],\n",
              "       [0.75065476, 0.24934524],\n",
              "       [0.89423748, 0.10576252],\n",
              "       [0.10635062, 0.89364938],\n",
              "       [0.81909779, 0.18090221],\n",
              "       [0.05940415, 0.94059585],\n",
              "       [0.71731495, 0.28268505],\n",
              "       [0.90991715, 0.09008285],\n",
              "       [0.09725801, 0.90274199],\n",
              "       [0.91502567, 0.08497433],\n",
              "       [0.89396554, 0.10603446],\n",
              "       [0.87650213, 0.12349787],\n",
              "       [0.95058481, 0.04941519],\n",
              "       [0.72801236, 0.27198764],\n",
              "       [0.90585242, 0.09414758],\n",
              "       [0.92052253, 0.07947747],\n",
              "       [0.91065478, 0.08934522],\n",
              "       [0.56168319, 0.43831681],\n",
              "       [0.77840923, 0.22159077],\n",
              "       [0.19677412, 0.80322588],\n",
              "       [0.69198104, 0.30801896],\n",
              "       [0.91039989, 0.08960011],\n",
              "       [0.81222061, 0.18777939],\n",
              "       [0.26847987, 0.73152013],\n",
              "       [0.97186822, 0.02813178],\n",
              "       [0.06471025, 0.93528975],\n",
              "       [0.9567226 , 0.0432774 ],\n",
              "       [0.71710983, 0.28289017],\n",
              "       [0.63123144, 0.36876856],\n",
              "       [0.94189101, 0.05810899],\n",
              "       [0.52389324, 0.47610676],\n",
              "       [0.58565181, 0.41434819],\n",
              "       [0.7306709 , 0.2693291 ],\n",
              "       [0.83567967, 0.16432033],\n",
              "       [0.72732521, 0.27267479],\n",
              "       [0.86586032, 0.13413968],\n",
              "       [0.63745546, 0.36254454],\n",
              "       [0.28320624, 0.71679376],\n",
              "       [0.99377776, 0.00622224],\n",
              "       [0.9823624 , 0.0176376 ],\n",
              "       [0.16917728, 0.83082272],\n",
              "       [0.9098452 , 0.0901548 ],\n",
              "       [0.21651068, 0.78348932],\n",
              "       [0.35197622, 0.64802378],\n",
              "       [0.34757916, 0.65242084],\n",
              "       [0.51544556, 0.48455444],\n",
              "       [0.27337583, 0.72662417],\n",
              "       [0.8535446 , 0.1464554 ],\n",
              "       [0.92916757, 0.07083243],\n",
              "       [0.66087705, 0.33912295],\n",
              "       [0.84888193, 0.15111807],\n",
              "       [0.98487264, 0.01512736],\n",
              "       [0.09189421, 0.90810579],\n",
              "       [0.55421506, 0.44578494],\n",
              "       [0.92535294, 0.07464706],\n",
              "       [0.72432476, 0.27567524],\n",
              "       [0.81772671, 0.18227329],\n",
              "       [0.77628624, 0.22371376],\n",
              "       [0.90180732, 0.09819268],\n",
              "       [0.79522513, 0.20477487],\n",
              "       [0.87913822, 0.12086178],\n",
              "       [0.10561961, 0.89438039],\n",
              "       [0.42240576, 0.57759424],\n",
              "       [0.90592287, 0.09407713],\n",
              "       [0.38338583, 0.61661417],\n",
              "       [0.89447573, 0.10552427],\n",
              "       [0.23261614, 0.76738386],\n",
              "       [0.91534249, 0.08465751],\n",
              "       [0.81834059, 0.18165941],\n",
              "       [0.79343073, 0.20656927],\n",
              "       [0.97916393, 0.02083607],\n",
              "       [0.69584409, 0.30415591]])"
            ]
          },
          "metadata": {},
          "execution_count": 39
        }
      ]
    },
    {
      "cell_type": "code",
      "source": [
        "confusion_matrix(y_test,y_pred)"
      ],
      "metadata": {
        "colab": {
          "base_uri": "https://localhost:8080/"
        },
        "id": "rpeKAiCvHjWi",
        "outputId": "568cc34f-4e04-4f30-848d-54eb5daddc5c"
      },
      "execution_count": null,
      "outputs": [
        {
          "output_type": "execute_result",
          "data": {
            "text/plain": [
              "array([[137,  16],\n",
              "       [ 39,  39]])"
            ]
          },
          "metadata": {},
          "execution_count": 40
        }
      ]
    },
    {
      "cell_type": "code",
      "source": [
        "print(classification_report(y_test, y_pred))"
      ],
      "metadata": {
        "colab": {
          "base_uri": "https://localhost:8080/"
        },
        "id": "RlR-J4cNHyer",
        "outputId": "873b18ca-4c2d-4b06-9178-5edb7dbe13e7"
      },
      "execution_count": null,
      "outputs": [
        {
          "output_type": "stream",
          "name": "stdout",
          "text": [
            "              precision    recall  f1-score   support\n",
            "\n",
            "           0       0.78      0.90      0.83       153\n",
            "           1       0.71      0.50      0.59        78\n",
            "\n",
            "    accuracy                           0.76       231\n",
            "   macro avg       0.74      0.70      0.71       231\n",
            "weighted avg       0.76      0.76      0.75       231\n",
            "\n"
          ]
        }
      ]
    },
    {
      "cell_type": "markdown",
      "source": [
        "We can see above in the precision column that the precion of finding the Diabetes increases "
      ],
      "metadata": {
        "id": "YAOv-f77NLhL"
      }
    },
    {
      "cell_type": "code",
      "source": [
        "(137+39)/231"
      ],
      "metadata": {
        "colab": {
          "base_uri": "https://localhost:8080/"
        },
        "id": "HdAnt2uUI_Mb",
        "outputId": "d5c08a96-8211-4388-d441-a94e76182caf"
      },
      "execution_count": null,
      "outputs": [
        {
          "output_type": "execute_result",
          "data": {
            "text/plain": [
              "0.7619047619047619"
            ]
          },
          "metadata": {},
          "execution_count": 43
        }
      ]
    },
    {
      "cell_type": "code",
      "source": [
        "import statsmodels.api as sm"
      ],
      "metadata": {
        "id": "wAcio8Q8JDUZ"
      },
      "execution_count": null,
      "outputs": []
    },
    {
      "cell_type": "code",
      "source": [
        "X = sm.add_constant(X)"
      ],
      "metadata": {
        "id": "YKI6wJ0DJLD7"
      },
      "execution_count": null,
      "outputs": []
    },
    {
      "cell_type": "code",
      "source": [
        "X.shape"
      ],
      "metadata": {
        "colab": {
          "base_uri": "https://localhost:8080/"
        },
        "id": "rGXO96XBJOBp",
        "outputId": "254b7ff6-c585-477f-82aa-2e087f786b13"
      },
      "execution_count": null,
      "outputs": [
        {
          "output_type": "execute_result",
          "data": {
            "text/plain": [
              "(768, 5)"
            ]
          },
          "metadata": {},
          "execution_count": 46
        }
      ]
    },
    {
      "cell_type": "code",
      "source": [
        "X.head()"
      ],
      "metadata": {
        "colab": {
          "base_uri": "https://localhost:8080/",
          "height": 206
        },
        "id": "sapbm9hZJVS8",
        "outputId": "4ac268e9-fb21-41f8-bb2e-90eeaf94fb16"
      },
      "execution_count": null,
      "outputs": [
        {
          "output_type": "execute_result",
          "data": {
            "text/html": [
              "\n",
              "  <div id=\"df-e859cff5-31e1-4a7b-97b0-89d789f1d823\">\n",
              "    <div class=\"colab-df-container\">\n",
              "      <div>\n",
              "<style scoped>\n",
              "    .dataframe tbody tr th:only-of-type {\n",
              "        vertical-align: middle;\n",
              "    }\n",
              "\n",
              "    .dataframe tbody tr th {\n",
              "        vertical-align: top;\n",
              "    }\n",
              "\n",
              "    .dataframe thead th {\n",
              "        text-align: right;\n",
              "    }\n",
              "</style>\n",
              "<table border=\"1\" class=\"dataframe\">\n",
              "  <thead>\n",
              "    <tr style=\"text-align: right;\">\n",
              "      <th></th>\n",
              "      <th>const</th>\n",
              "      <th>pregnancies</th>\n",
              "      <th>glucose</th>\n",
              "      <th>bmi</th>\n",
              "      <th>dpf</th>\n",
              "    </tr>\n",
              "  </thead>\n",
              "  <tbody>\n",
              "    <tr>\n",
              "      <th>0</th>\n",
              "      <td>1.0</td>\n",
              "      <td>6</td>\n",
              "      <td>148</td>\n",
              "      <td>33.6</td>\n",
              "      <td>0.627</td>\n",
              "    </tr>\n",
              "    <tr>\n",
              "      <th>1</th>\n",
              "      <td>1.0</td>\n",
              "      <td>1</td>\n",
              "      <td>85</td>\n",
              "      <td>26.6</td>\n",
              "      <td>0.351</td>\n",
              "    </tr>\n",
              "    <tr>\n",
              "      <th>2</th>\n",
              "      <td>1.0</td>\n",
              "      <td>8</td>\n",
              "      <td>183</td>\n",
              "      <td>23.3</td>\n",
              "      <td>0.672</td>\n",
              "    </tr>\n",
              "    <tr>\n",
              "      <th>3</th>\n",
              "      <td>1.0</td>\n",
              "      <td>1</td>\n",
              "      <td>89</td>\n",
              "      <td>28.1</td>\n",
              "      <td>0.167</td>\n",
              "    </tr>\n",
              "    <tr>\n",
              "      <th>4</th>\n",
              "      <td>1.0</td>\n",
              "      <td>0</td>\n",
              "      <td>137</td>\n",
              "      <td>43.1</td>\n",
              "      <td>2.288</td>\n",
              "    </tr>\n",
              "  </tbody>\n",
              "</table>\n",
              "</div>\n",
              "      <button class=\"colab-df-convert\" onclick=\"convertToInteractive('df-e859cff5-31e1-4a7b-97b0-89d789f1d823')\"\n",
              "              title=\"Convert this dataframe to an interactive table.\"\n",
              "              style=\"display:none;\">\n",
              "        \n",
              "  <svg xmlns=\"http://www.w3.org/2000/svg\" height=\"24px\"viewBox=\"0 0 24 24\"\n",
              "       width=\"24px\">\n",
              "    <path d=\"M0 0h24v24H0V0z\" fill=\"none\"/>\n",
              "    <path d=\"M18.56 5.44l.94 2.06.94-2.06 2.06-.94-2.06-.94-.94-2.06-.94 2.06-2.06.94zm-11 1L8.5 8.5l.94-2.06 2.06-.94-2.06-.94L8.5 2.5l-.94 2.06-2.06.94zm10 10l.94 2.06.94-2.06 2.06-.94-2.06-.94-.94-2.06-.94 2.06-2.06.94z\"/><path d=\"M17.41 7.96l-1.37-1.37c-.4-.4-.92-.59-1.43-.59-.52 0-1.04.2-1.43.59L10.3 9.45l-7.72 7.72c-.78.78-.78 2.05 0 2.83L4 21.41c.39.39.9.59 1.41.59.51 0 1.02-.2 1.41-.59l7.78-7.78 2.81-2.81c.8-.78.8-2.07 0-2.86zM5.41 20L4 18.59l7.72-7.72 1.47 1.35L5.41 20z\"/>\n",
              "  </svg>\n",
              "      </button>\n",
              "      \n",
              "  <style>\n",
              "    .colab-df-container {\n",
              "      display:flex;\n",
              "      flex-wrap:wrap;\n",
              "      gap: 12px;\n",
              "    }\n",
              "\n",
              "    .colab-df-convert {\n",
              "      background-color: #E8F0FE;\n",
              "      border: none;\n",
              "      border-radius: 50%;\n",
              "      cursor: pointer;\n",
              "      display: none;\n",
              "      fill: #1967D2;\n",
              "      height: 32px;\n",
              "      padding: 0 0 0 0;\n",
              "      width: 32px;\n",
              "    }\n",
              "\n",
              "    .colab-df-convert:hover {\n",
              "      background-color: #E2EBFA;\n",
              "      box-shadow: 0px 1px 2px rgba(60, 64, 67, 0.3), 0px 1px 3px 1px rgba(60, 64, 67, 0.15);\n",
              "      fill: #174EA6;\n",
              "    }\n",
              "\n",
              "    [theme=dark] .colab-df-convert {\n",
              "      background-color: #3B4455;\n",
              "      fill: #D2E3FC;\n",
              "    }\n",
              "\n",
              "    [theme=dark] .colab-df-convert:hover {\n",
              "      background-color: #434B5C;\n",
              "      box-shadow: 0px 1px 3px 1px rgba(0, 0, 0, 0.15);\n",
              "      filter: drop-shadow(0px 1px 2px rgba(0, 0, 0, 0.3));\n",
              "      fill: #FFFFFF;\n",
              "    }\n",
              "  </style>\n",
              "\n",
              "      <script>\n",
              "        const buttonEl =\n",
              "          document.querySelector('#df-e859cff5-31e1-4a7b-97b0-89d789f1d823 button.colab-df-convert');\n",
              "        buttonEl.style.display =\n",
              "          google.colab.kernel.accessAllowed ? 'block' : 'none';\n",
              "\n",
              "        async function convertToInteractive(key) {\n",
              "          const element = document.querySelector('#df-e859cff5-31e1-4a7b-97b0-89d789f1d823');\n",
              "          const dataTable =\n",
              "            await google.colab.kernel.invokeFunction('convertToInteractive',\n",
              "                                                     [key], {});\n",
              "          if (!dataTable) return;\n",
              "\n",
              "          const docLinkHtml = 'Like what you see? Visit the ' +\n",
              "            '<a target=\"_blank\" href=https://colab.research.google.com/notebooks/data_table.ipynb>data table notebook</a>'\n",
              "            + ' to learn more about interactive tables.';\n",
              "          element.innerHTML = '';\n",
              "          dataTable['output_type'] = 'display_data';\n",
              "          await google.colab.output.renderOutput(dataTable, element);\n",
              "          const docLink = document.createElement('div');\n",
              "          docLink.innerHTML = docLinkHtml;\n",
              "          element.appendChild(docLink);\n",
              "        }\n",
              "      </script>\n",
              "    </div>\n",
              "  </div>\n",
              "  "
            ],
            "text/plain": [
              "   const  pregnancies  glucose   bmi    dpf\n",
              "0    1.0            6      148  33.6  0.627\n",
              "1    1.0            1       85  26.6  0.351\n",
              "2    1.0            8      183  23.3  0.672\n",
              "3    1.0            1       89  28.1  0.167\n",
              "4    1.0            0      137  43.1  2.288"
            ]
          },
          "metadata": {},
          "execution_count": 47
        }
      ]
    },
    {
      "cell_type": "code",
      "source": [
        "model = sm.Logit(y, X)"
      ],
      "metadata": {
        "id": "Yfm98j0QJXtL"
      },
      "execution_count": null,
      "outputs": []
    },
    {
      "cell_type": "code",
      "source": [
        "result = model.fit()"
      ],
      "metadata": {
        "colab": {
          "base_uri": "https://localhost:8080/"
        },
        "id": "jb4gp7yaJa1C",
        "outputId": "4814dc08-39e6-4448-b375-2ddd8214ff30"
      },
      "execution_count": null,
      "outputs": [
        {
          "output_type": "stream",
          "name": "stdout",
          "text": [
            "Optimization terminated successfully.\n",
            "         Current function value: 0.478064\n",
            "         Iterations 6\n"
          ]
        }
      ]
    },
    {
      "cell_type": "code",
      "source": [
        "print(result.summary())"
      ],
      "metadata": {
        "colab": {
          "base_uri": "https://localhost:8080/"
        },
        "id": "6-XkDX9UJfrJ",
        "outputId": "f6faca4d-cc13-47dd-a316-a6bd37cdde35"
      },
      "execution_count": null,
      "outputs": [
        {
          "output_type": "stream",
          "name": "stdout",
          "text": [
            "                           Logit Regression Results                           \n",
            "==============================================================================\n",
            "Dep. Variable:               diabetes   No. Observations:                  768\n",
            "Model:                          Logit   Df Residuals:                      763\n",
            "Method:                           MLE   Df Model:                            4\n",
            "Date:                Sun, 19 Dec 2021   Pseudo R-squ.:                  0.2609\n",
            "Time:                        10:04:18   Log-Likelihood:                -367.15\n",
            "converged:                       True   LL-Null:                       -496.74\n",
            "Covariance Type:            nonrobust   LLR p-value:                 6.857e-55\n",
            "===============================================================================\n",
            "                  coef    std err          z      P>|z|      [0.025      0.975]\n",
            "-------------------------------------------------------------------------------\n",
            "const          -8.4159      0.657    -12.811      0.000      -9.703      -7.128\n",
            "pregnancies     0.1419      0.027      5.236      0.000       0.089       0.195\n",
            "glucose         0.0338      0.003     10.112      0.000       0.027       0.040\n",
            "bmi             0.0781      0.014      5.671      0.000       0.051       0.105\n",
            "dpf             0.9013      0.292      3.090      0.002       0.330       1.473\n",
            "===============================================================================\n"
          ]
        }
      ]
    },
    {
      "cell_type": "code",
      "source": [
        ""
      ],
      "metadata": {
        "id": "uAyMFm7WJjVm"
      },
      "execution_count": null,
      "outputs": []
    }
  ]
}